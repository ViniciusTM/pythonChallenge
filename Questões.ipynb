{
 "cells": [
  {
   "cell_type": "markdown",
   "metadata": {},
   "source": [
    "# Desafio Python"
   ]
  },
  {
   "cell_type": "markdown",
   "metadata": {},
   "source": [
    "## Questão 1 - Aquecimento\n",
    "Algorítimos de ordenação: <br>\n",
    "Uma das tarefas mais clássicas em programação é a de ordenar uma lista de números. Nesse primeiro desafio você deve implementar uma função que lê uma lista de números e retorna uma lista com os mesmo números, porém em ordem crescente. <br>\n",
    "\n",
    "Exemplo: <br>\n",
    "entrada = [5,3,7,1,2,5,6,9,2] <br>\n",
    "saída = [1,2,2,3,5,5,6,7,9]\n"
   ]
  },
  {
   "cell_type": "markdown",
   "metadata": {},
   "source": [
    "Por ser uma tarfa tão comum o python já tem uma função que faz isso, e obviamente para esse desafio você **NÃO** pode usar ela:"
   ]
  },
  {
   "cell_type": "code",
   "execution_count": 9,
   "metadata": {},
   "outputs": [
    {
     "name": "stdout",
     "output_type": "stream",
     "text": [
      "Lista antes da ordenação: [5, 3, 7, 1, 2, 5, 6, 9, 2]\n",
      "Lista depois da ordenação: [1, 2, 2, 3, 5, 5, 6, 7, 9]\n"
     ]
    }
   ],
   "source": [
    "v = [5,3,7,1,2,5,6,9,2]\n",
    "print(\"Lista antes da ordenação:\", v)\n",
    "v.sort()\n",
    "print(\"Lista depois da ordenação:\", v)"
   ]
  },
  {
   "cell_type": "markdown",
   "metadata": {},
   "source": [
    "### O desafio:\n",
    "Você deve implementar uma função com apenas um argumento: uma string que contém o caminho para um arquivo txt. A função deve abrir o arquivo ler a sequencia de números separados por espaço contidos nele e retornar uma lista com os números ordenados. <br>\n",
    "Exemplos de arquivos txt para você utilizar estão na pasta \"instancias/Q1\"."
   ]
  },
  {
   "cell_type": "code",
   "execution_count": 5,
   "metadata": {},
   "outputs": [],
   "source": [
    "\"\"\"\n",
    "Função que recebe o caminho para um arquivo txt contendo números separdos por espaço e retorna uma lista\n",
    "contendo os mesmo números porém em ordem crescente\n",
    "\n",
    "Argumentos:\n",
    "path: string com caminho para o arquivo\n",
    "\n",
    "Retorno:\n",
    "Uma lista de números ordenados\n",
    "\"\"\"\n",
    "def sort_function(path):\n",
    "    pass\n",
    "    "
   ]
  },
  {
   "cell_type": "markdown",
   "metadata": {},
   "source": [
    "### Teste:\n",
    "depois de implementado rode o código abaixo para testar sua função:"
   ]
  },
  {
   "cell_type": "code",
   "execution_count": 20,
   "metadata": {},
   "outputs": [],
   "source": [
    "tentativa = sort_function('teste.txt')\n",
    "\n",
    "with open('instancias/Q1/resposta.txt') as f:\n",
    "    resposta = [float(i) for i in f.readline().split()]\n",
    "\n",
    "if tentativa == resposta:\n",
    "    print('Parabens você acertou! Pode passar para o próximo desafio')\n",
    "else:\n",
    "    print('Ainda tem algo de errado =(, continue tentando')"
   ]
  },
  {
   "cell_type": "markdown",
   "metadata": {},
   "source": [
    "## Questão 2 - Encontre o padrão\n",
    "Nesse desafio você deve escrever uma função que recebe uma string e retorna o número de vezes que um certo\n",
    "padrão (nesse caso 'bob') aparece na string. <br>\n",
    "\n",
    "Exemplo: <br>\n",
    "entrada = 'azcbobobegghakl' <br>\n",
    "padão = 'bob' <br>\n",
    "saída = 2 <br>\n",
    "\n",
    "Prodibido usar a função find() do python, você deve implemtar a lógica completa do seu algorítimo"
   ]
  },
  {
   "cell_type": "markdown",
   "metadata": {},
   "source": [
    "### O desafio:\n",
    "Mais uma vez você deve implementar uma função que recebe o caminho para um arquivo. Dessa vez o arquivo vai conter várias strings separadas por quebra de linha ('\\n'). Para cada uma delas você deve procurar o número de vezes que o padrão 'bob' aparece. Um detalhe é que as strings vão conter letras maiusculas e minusculas, mais seu algorítmo não deve ligar para isso. Por exemplo: 'Bob', 'BOB', bOb' são todos padrões **validos**! <br>\n",
    "Sua função deve retornar um lista contendo o número de de vezes que o padrão foi encontrado para cada string <br>\n",
    "\n",
    "Exemplo:<br>\n",
    "\"<br>\n",
    "BoBsa<br>\n",
    "saBos<br>\n",
    "ffbOBax<br>\n",
    "\"<br>\n",
    "deve retornar:\n",
    "[1, 0, 1]"
   ]
  },
  {
   "cell_type": "code",
   "execution_count": 27,
   "metadata": {},
   "outputs": [],
   "source": [
    "\"\"\"\n",
    "Função que recebe o caminho para um arquivo txt contendo strings separadas por quebra de linha e retorna \n",
    "o número de ocorrencias do padrão 'bob' em cada uma delas\n",
    "\n",
    "Argumentos:\n",
    "path: string com caminho para o arquivo\n",
    "\n",
    "Retorno:\n",
    "Uma lista de número de ocorrencias de 'bob' para cada string\n",
    "\"\"\"\n",
    "def find_bob(path):\n",
    "    pass"
   ]
  },
  {
   "cell_type": "markdown",
   "metadata": {},
   "source": [
    "### Teste:\n",
    "depois de implementado rode o código abaixo para testar sua função:"
   ]
  },
  {
   "cell_type": "code",
   "execution_count": 30,
   "metadata": {},
   "outputs": [],
   "source": [
    "if find_bob('instancias/Q2/teste.txt') == []:\n",
    "    print('Parabens você acertou! Pode passar para o próximo desafio')\n",
    "else:\n",
    "    print('Ainda tem algo de errado =(, continue tentando')"
   ]
  },
  {
   "cell_type": "markdown",
   "metadata": {},
   "source": [
    "## Questão 3 - Complicando sua vida\n",
    "Agora a coisa vai começar a ficar complicada.<br>\n",
    "Que nem o desafio anterior esse é de encontrar padrão em uma string, mais dessa vez eu quero que você me\n",
    "retorne a maior sequencia de números em **ordem alfabética** que existe na string.\n",
    "\n",
    "Exemplo: <br>\n",
    "entrada = 'azcbobobegghakl' <br>\n",
    "saída = 'beggh' <br>\n",
    "\n",
    "No exemplo acima 'az' é uma substring em ordem alfabética, mais 'azc' já não é pois o 'c' vem antes do 'z'\n",
    "no alfabeto. Letras repitidas (como 'aab') são consideradas válidas. <br>\n",
    "Em caso de empate, você deve retornar a substring que apareceu primeiro"
   ]
  },
  {
   "cell_type": "markdown",
   "metadata": {},
   "source": [
    "### O desafio:\n",
    "Mesma coisa de sempre, implementar função que recebe caminho bla bla bla... Igual no exercício anterior o arquivo vai conter várias strings separadas por quebra de linha"
   ]
  },
  {
   "cell_type": "code",
   "execution_count": 31,
   "metadata": {},
   "outputs": [],
   "source": [
    "\"\"\"\n",
    "Função que recebe o caminho para um arquivo txt contendo strings separadas por quebra de linha e retorna a\n",
    "maior sequencia de letras em ordem alfabetica para cada uma das strings\n",
    "\n",
    "Argumentos:\n",
    "path: string com caminho para o arquivo\n",
    "\n",
    "Retorno:\n",
    "Uma lista de strings contendo a maior string em ordem alfabetica para cada linha do arquivo de entrada\n",
    "\"\"\"\n",
    "def find_alpha_sequence(path):\n",
    "    pass"
   ]
  }
 ],
 "metadata": {
  "kernelspec": {
   "display_name": "Python 3",
   "language": "python",
   "name": "python3"
  },
  "language_info": {
   "codemirror_mode": {
    "name": "ipython",
    "version": 3
   },
   "file_extension": ".py",
   "mimetype": "text/x-python",
   "name": "python",
   "nbconvert_exporter": "python",
   "pygments_lexer": "ipython3",
   "version": "3.6.7"
  }
 },
 "nbformat": 4,
 "nbformat_minor": 2
}
